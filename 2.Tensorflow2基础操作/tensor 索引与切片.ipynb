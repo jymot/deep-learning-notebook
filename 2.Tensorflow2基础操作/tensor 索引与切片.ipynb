{
 "cells": [
  {
   "cell_type": "code",
   "execution_count": 1,
   "metadata": {},
   "outputs": [],
   "source": [
    "import tensorflow as tf"
   ]
  },
  {
   "cell_type": "code",
   "execution_count": 5,
   "metadata": {},
   "outputs": [
    {
     "data": {
      "text/plain": [
       "(<tf.Tensor: id=47, shape=(5, 3), dtype=float32, numpy=\n",
       " array([[1., 1., 1.],\n",
       "        [1., 1., 1.],\n",
       "        [1., 1., 1.],\n",
       "        [1., 1., 1.],\n",
       "        [1., 1., 1.]], dtype=float32)>,\n",
       " <tf.Tensor: id=59, shape=(3,), dtype=float32, numpy=array([1., 1., 1.], dtype=float32)>,\n",
       " <tf.Tensor: id=75, shape=(), dtype=float32, numpy=1.0>)"
      ]
     },
     "execution_count": 5,
     "metadata": {},
     "output_type": "execute_result"
    }
   ],
   "source": [
    "# 基础索引操作\n",
    "a = tf.ones([1, 5, 5, 3])\n",
    "a[0][0], a[0][0][0], a[0][0][0][0]"
   ]
  },
  {
   "cell_type": "code",
   "execution_count": 16,
   "metadata": {},
   "outputs": [
    {
     "name": "stdout",
     "output_type": "stream",
     "text": [
      "a[1].shape=(28, 28, 3)\n",
      "a[1, 1].shape=(28, 3)\n",
      "a[1, 1, 1].shape=(3,)\n",
      "a[1, 1, 1, 1].shape=()\n"
     ]
    }
   ],
   "source": [
    "# numpy 风格索引\n",
    "a = tf.random.normal([4, 28, 28, 3])\n",
    "print(\"a[1].shape={}\".format(a[1].shape))\n",
    "print(\"a[1, 1].shape={}\".format(a[1, 1].shape))\n",
    "print(\"a[1, 1, 1].shape={}\".format(a[1, 1, 1].shape))\n",
    "print(\"a[1, 1, 1, 1].shape={}\".format(a[1, 1, 1, 1].shape))"
   ]
  },
  {
   "cell_type": "code",
   "execution_count": 26,
   "metadata": {},
   "outputs": [
    {
     "data": {
      "text/plain": [
       "(<tf.Tensor: id=328, shape=(10,), dtype=int32, numpy=array([0, 1, 2, 3, 4, 5, 6, 7, 8, 9], dtype=int32)>,\n",
       " <tf.Tensor: id=332, shape=(3,), dtype=int32, numpy=array([0, 1, 2], dtype=int32)>,\n",
       " <tf.Tensor: id=336, shape=(2,), dtype=int32, numpy=array([0, 1], dtype=int32)>,\n",
       " <tf.Tensor: id=340, shape=(2,), dtype=int32, numpy=array([7, 8], dtype=int32)>,\n",
       " <tf.Tensor: id=344, shape=(10,), dtype=int32, numpy=array([0, 1, 2, 3, 4, 5, 6, 7, 8, 9], dtype=int32)>,\n",
       " <tf.Tensor: id=348, shape=(5,), dtype=int32, numpy=array([5, 6, 7, 8, 9], dtype=int32)>)"
      ]
     },
     "execution_count": 26,
     "metadata": {},
     "output_type": "execute_result"
    }
   ],
   "source": [
    "# 切片 [start:end)\n",
    "a = tf.range(10)\n",
    "a, a[0:3], a[:2], a[-3:-1], a[:], a[-5:]"
   ]
  },
  {
   "cell_type": "code",
   "execution_count": 32,
   "metadata": {},
   "outputs": [
    {
     "name": "stdout",
     "output_type": "stream",
     "text": [
      "a[0].shape=(28, 28, 3)\n",
      "a[0,:,:,:].shape=(28, 28, 3)\n",
      "a[0,1,:,:].shape=(28, 3)\n",
      "a[:,:,:,0].shape=(4, 28, 28)\n",
      "a[:,0,:,:].shape=(4, 28, 3)\n",
      "a[:,0:2,:,:].shape=(4, 2, 28, 3)\n"
     ]
    }
   ],
   "source": [
    "a = tf.random.normal([4, 28, 28, 3])\n",
    "print(\"a[0].shape={}\".format(a[0].shape))\n",
    "print(\"a[0,:,:,:].shape={}\".format(a[0,:,:,:].shape))\n",
    "print(\"a[0,1,:,:].shape={}\".format(a[0,1,:,:].shape))\n",
    "print(\"a[:,:,:,0].shape={}\".format(a[:,:,:,0].shape))\n",
    "print(\"a[:,0,:,:].shape={}\".format(a[:,0,:,:].shape))\n",
    "print(\"a[:,0:2,:,:].shape={}\".format(a[:,0:2,:,:].shape))\n"
   ]
  }
 ],
 "metadata": {
  "kernelspec": {
   "display_name": "Python 3",
   "language": "python",
   "name": "python3"
  },
  "language_info": {
   "codemirror_mode": {
    "name": "ipython",
    "version": 3
   },
   "file_extension": ".py",
   "mimetype": "text/x-python",
   "name": "python",
   "nbconvert_exporter": "python",
   "pygments_lexer": "ipython3",
   "version": "3.7.3"
  }
 },
 "nbformat": 4,
 "nbformat_minor": 2
}
