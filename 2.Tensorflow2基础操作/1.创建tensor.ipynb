{
 "cells": [
  {
   "cell_type": "code",
   "execution_count": 1,
   "metadata": {},
   "outputs": [],
   "source": [
    "import tensorflow as tf"
   ]
  },
  {
   "cell_type": "code",
   "execution_count": 28,
   "metadata": {
    "scrolled": true
   },
   "outputs": [
    {
     "data": {
      "text/plain": [
       "(<tf.Tensor: id=47, shape=(), dtype=float32, numpy=0.0>,\n",
       " <tf.Tensor: id=50, shape=(1,), dtype=float32, numpy=array([0.], dtype=float32)>,\n",
       " <tf.Tensor: id=53, shape=(2, 2), dtype=float32, numpy=\n",
       " array([[0., 0.],\n",
       "        [0., 0.]], dtype=float32)>)"
      ]
     },
     "execution_count": 28,
     "metadata": {},
     "output_type": "execute_result"
    }
   ],
   "source": [
    "# zeros, 接收 shape 参数\n",
    "tf.zeros([]), tf.zeros([1]), tf.zeros([2,2])"
   ]
  },
  {
   "cell_type": "code",
   "execution_count": 31,
   "metadata": {},
   "outputs": [
    {
     "data": {
      "text/plain": [
       "(<tf.Tensor: id=68, shape=(1,), dtype=float32, numpy=array([0.], dtype=float32)>,\n",
       " <tf.Tensor: id=71, shape=(1,), dtype=float32, numpy=array([0.], dtype=float32)>)"
      ]
     },
     "execution_count": 31,
     "metadata": {},
     "output_type": "execute_result"
    }
   ],
   "source": [
    "# zeros_like 接收 tensor 参数\n",
    "tensor_0 = tf.zeros([1])\n",
    "# zeros_like(tensor) = tf.zeros(tensor.shape)\n",
    "tf.zeros_like(tensor_0), tf.zeros(tensor_0.shape)"
   ]
  },
  {
   "cell_type": "code",
   "execution_count": 35,
   "metadata": {},
   "outputs": [
    {
     "data": {
      "text/plain": [
       "(<tf.Tensor: id=93, shape=(), dtype=float32, numpy=1.0>,\n",
       " <tf.Tensor: id=96, shape=(1,), dtype=float32, numpy=array([1.], dtype=float32)>,\n",
       " <tf.Tensor: id=99, shape=(2, 2), dtype=float32, numpy=\n",
       " array([[1., 1.],\n",
       "        [1., 1.]], dtype=float32)>)"
      ]
     },
     "execution_count": 35,
     "metadata": {},
     "output_type": "execute_result"
    }
   ],
   "source": [
    "# ones 初始化为1\n",
    "tf.ones([]), tf.ones([1]), tf.ones([2, 2])"
   ]
  },
  {
   "cell_type": "code",
   "execution_count": 37,
   "metadata": {},
   "outputs": [
    {
     "data": {
      "text/plain": [
       "(<tf.Tensor: id=114, shape=(1,), dtype=float32, numpy=array([1.], dtype=float32)>,\n",
       " <tf.Tensor: id=117, shape=(1,), dtype=float32, numpy=array([1.], dtype=float32)>)"
      ]
     },
     "execution_count": 37,
     "metadata": {},
     "output_type": "execute_result"
    }
   ],
   "source": [
    "# ones_like 使用方法和 zeros_like 相同\n",
    "tensor_1 = tf.ones([1])\n",
    "tf.ones_like(tensor_1), tf.ones(tensor_1.shape)"
   ]
  },
  {
   "cell_type": "code",
   "execution_count": 40,
   "metadata": {},
   "outputs": [
    {
     "data": {
      "text/plain": [
       "<tf.Tensor: id=123, shape=(2, 2), dtype=int32, numpy=\n",
       "array([[3, 3],\n",
       "       [3, 3]], dtype=int32)>"
      ]
     },
     "execution_count": 40,
     "metadata": {},
     "output_type": "execute_result"
    }
   ],
   "source": [
    "# fill\n",
    "tf.fill([2, 2], 3)"
   ]
  },
  {
   "cell_type": "code",
   "execution_count": 45,
   "metadata": {},
   "outputs": [
    {
     "data": {
      "text/plain": [
       "<tf.Tensor: id=153, shape=(2, 2), dtype=float32, numpy=\n",
       "array([[1.4304217 , 0.79954505],\n",
       "       [0.7178713 , 0.80752563]], dtype=float32)>"
      ]
     },
     "execution_count": 45,
     "metadata": {},
     "output_type": "execute_result"
    }
   ],
   "source": [
    "# random\n",
    "# 正态分布\n",
    "tf.random.normal([2, 2], mean=1, stddev=1)"
   ]
  },
  {
   "cell_type": "code",
   "execution_count": 46,
   "metadata": {},
   "outputs": [
    {
     "data": {
      "text/plain": [
       "<tf.Tensor: id=159, shape=(2, 2), dtype=float32, numpy=\n",
       "array([[ 0.28808996, -0.4033764 ],\n",
       "       [ 0.5063527 , -0.08805122]], dtype=float32)>"
      ]
     },
     "execution_count": 46,
     "metadata": {},
     "output_type": "execute_result"
    }
   ],
   "source": [
    "tf.random.normal([2, 2])"
   ]
  },
  {
   "cell_type": "code",
   "execution_count": 50,
   "metadata": {},
   "outputs": [
    {
     "data": {
      "text/plain": [
       "(<tf.Tensor: id=195, shape=(2, 2), dtype=float32, numpy=\n",
       " array([[-0.567653  ,  0.81972235],\n",
       "        [ 0.652435  ,  0.23261236]], dtype=float32)>,\n",
       " <tf.Tensor: id=201, shape=(2, 2), dtype=float32, numpy=\n",
       " array([[ 1.4613687 , -0.72407055],\n",
       "        [ 0.42065078, -0.9017768 ]], dtype=float32)>)"
      ]
     },
     "execution_count": 50,
     "metadata": {},
     "output_type": "execute_result"
    }
   ],
   "source": [
    "tf.random.truncated_normal([2, 2], mean=0, stddev=1), tf.random.normal([2, 2], mean=0, stddev=1)"
   ]
  },
  {
   "cell_type": "code",
   "execution_count": 52,
   "metadata": {},
   "outputs": [
    {
     "data": {
      "text/plain": [
       "<tf.Tensor: id=215, shape=(2, 2), dtype=float32, numpy=\n",
       "array([[0.09196353, 0.2152592 ],\n",
       "       [0.19122493, 0.45572293]], dtype=float32)>"
      ]
     },
     "execution_count": 52,
     "metadata": {},
     "output_type": "execute_result"
    }
   ],
   "source": [
    "# 均匀分布\n",
    "tf.random.uniform([2, 2], minval=0, maxval=1)"
   ]
  },
  {
   "cell_type": "code",
   "execution_count": 54,
   "metadata": {},
   "outputs": [
    {
     "data": {
      "text/plain": [
       "(<tf.Tensor: id=224, shape=(4,), dtype=int32, numpy=array([0, 1, 2, 3], dtype=int32)>,\n",
       " <tf.Tensor: id=225, shape=(4,), dtype=int32, numpy=array([3, 0, 1, 2], dtype=int32)>)"
      ]
     },
     "execution_count": 54,
     "metadata": {},
     "output_type": "execute_result"
    }
   ],
   "source": [
    "# 洗牌\n",
    "test = tf.range(4)\n",
    "test, tf.random.shuffle(test)"
   ]
  },
  {
   "cell_type": "code",
   "execution_count": 55,
   "metadata": {},
   "outputs": [
    {
     "data": {
      "text/plain": [
       "<tf.Tensor: id=226, shape=(), dtype=int32, numpy=1>"
      ]
     },
     "execution_count": 55,
     "metadata": {},
     "output_type": "execute_result"
    }
   ],
   "source": [
    "# constant\n",
    "tf.constant(1)"
   ]
  },
  {
   "cell_type": "code",
   "execution_count": 56,
   "metadata": {},
   "outputs": [
    {
     "data": {
      "text/plain": [
       "<tf.Tensor: id=227, shape=(2,), dtype=int32, numpy=array([1, 2], dtype=int32)>"
      ]
     },
     "execution_count": 56,
     "metadata": {},
     "output_type": "execute_result"
    }
   ],
   "source": [
    "tf.constant([1, 2])"
   ]
  },
  {
   "cell_type": "code",
   "execution_count": 60,
   "metadata": {},
   "outputs": [
    {
     "name": "stdout",
     "output_type": "stream",
     "text": [
      "tf.Tensor(\n",
      "[[0.58692205 0.4736625  0.80797064 0.36966205 0.97114766 0.4265102\n",
      "  0.54153955 0.63531446 0.25944316 0.31613684]\n",
      " [0.97994924 0.9321933  0.262406   0.71045387 0.91622734 0.8881396\n",
      "  0.13285911 0.5271834  0.78588486 0.23172617]\n",
      " [0.23103893 0.25278997 0.2449857  0.2976365  0.7820029  0.20999205\n",
      "  0.67267954 0.20734131 0.4823612  0.41061544]\n",
      " [0.18766654 0.33322585 0.952335   0.02627242 0.1294111  0.7163553\n",
      "  0.91120017 0.12144613 0.3007574  0.0677985 ]], shape=(4, 10), dtype=float32)\n",
      "tf.Tensor([0 1 2 3], shape=(4,), dtype=int32)\n"
     ]
    },
    {
     "data": {
      "text/plain": [
       "<tf.Tensor: id=275, shape=(4, 10), dtype=float32, numpy=\n",
       "array([[1., 0., 0., 0., 0., 0., 0., 0., 0., 0.],\n",
       "       [0., 1., 0., 0., 0., 0., 0., 0., 0., 0.],\n",
       "       [0., 0., 1., 0., 0., 0., 0., 0., 0., 0.],\n",
       "       [0., 0., 0., 1., 0., 0., 0., 0., 0., 0.]], dtype=float32)>"
      ]
     },
     "execution_count": 60,
     "metadata": {},
     "output_type": "execute_result"
    }
   ],
   "source": [
    "# scalar（标量） \n",
    "# 例子 loss\n",
    "out = tf.random.uniform([4, 10])\n",
    "print(out)\n",
    "y = tf.range(4)\n",
    "print(y)\n",
    "y = tf.one_hot(y, depth=10)\n",
    "y"
   ]
  },
  {
   "cell_type": "code",
   "execution_count": 62,
   "metadata": {},
   "outputs": [
    {
     "data": {
      "text/plain": [
       "<tf.Tensor: id=281, shape=(4,), dtype=float32, numpy=array([0.31736377, 0.41336498, 0.23283067, 0.34713444], dtype=float32)>"
      ]
     },
     "execution_count": 62,
     "metadata": {},
     "output_type": "execute_result"
    }
   ],
   "source": [
    "loss = tf.keras.losses.mse(y, out)\n",
    "loss"
   ]
  },
  {
   "cell_type": "code",
   "execution_count": 64,
   "metadata": {},
   "outputs": [
    {
     "data": {
      "text/plain": [
       "<tf.Tensor: id=285, shape=(), dtype=float32, numpy=0.32767347>"
      ]
     },
     "execution_count": 64,
     "metadata": {},
     "output_type": "execute_result"
    }
   ],
   "source": [
    "loss = tf.reduce_mean(loss)\n",
    "loss"
   ]
  },
  {
   "cell_type": "code",
   "execution_count": 80,
   "metadata": {},
   "outputs": [
    {
     "data": {
      "text/plain": [
       "(<tf.Variable 'kernel:0' shape=(8, 10) dtype=float32, numpy=\n",
       " array([[-0.50782835,  0.45434272, -0.08679199,  0.00891042, -0.24358162,\n",
       "         -0.16048363, -0.5199071 ,  0.5460819 ,  0.48889148, -0.3551987 ],\n",
       "        [-0.53178406, -0.57356447,  0.38989997, -0.56900996, -0.5464729 ,\n",
       "          0.37682742, -0.55512595,  0.34949732,  0.09919065, -0.29205763],\n",
       "        [ 0.34532046,  0.31033826, -0.31892216,  0.04482383,  0.0902099 ,\n",
       "         -0.24197441, -0.2882619 ,  0.27160972,  0.30062765, -0.49175802],\n",
       "        [-0.34935004, -0.4113738 ,  0.23513424, -0.13449538, -0.0212723 ,\n",
       "          0.47638416, -0.15632725, -0.1358796 ,  0.56086755, -0.499385  ],\n",
       "        [ 0.1765688 ,  0.13830817, -0.07759032, -0.15973619,  0.17576289,\n",
       "         -0.00966918,  0.48621428, -0.53306794, -0.36685956,  0.09367013],\n",
       "        [ 0.39550167,  0.44574285, -0.41681063, -0.46715826,  0.46964526,\n",
       "         -0.0372178 , -0.30854574,  0.04425204, -0.46592367, -0.53373814],\n",
       "        [-0.21966517, -0.48979375, -0.52232826, -0.30771336,  0.5618762 ,\n",
       "          0.1350658 , -0.4007945 ,  0.56861436, -0.5034074 , -0.22183233],\n",
       "        [ 0.20293355,  0.3579849 , -0.53498995,  0.27285254,  0.4236765 ,\n",
       "          0.35482335, -0.2878195 , -0.00789583, -0.08291629,  0.09908795]],\n",
       "       dtype=float32)>,\n",
       " <tf.Variable 'bias:0' shape=(10,) dtype=float32, numpy=array([0., 0., 0., 0., 0., 0., 0., 0., 0., 0.], dtype=float32)>)"
      ]
     },
     "execution_count": 80,
     "metadata": {},
     "output_type": "execute_result"
    }
   ],
   "source": [
    "# Vector（向量）\n",
    "net = tf.keras.layers.Dense(10)\n",
    "net.build([4, 8])\n",
    "net.kernel, net.bias"
   ]
  }
 ],
 "metadata": {
  "kernelspec": {
   "display_name": "Python 3",
   "language": "python",
   "name": "python3"
  },
  "language_info": {
   "codemirror_mode": {
    "name": "ipython",
    "version": 3
   },
   "file_extension": ".py",
   "mimetype": "text/x-python",
   "name": "python",
   "nbconvert_exporter": "python",
   "pygments_lexer": "ipython3",
   "version": "3.7.3"
  }
 },
 "nbformat": 4,
 "nbformat_minor": 2
}
