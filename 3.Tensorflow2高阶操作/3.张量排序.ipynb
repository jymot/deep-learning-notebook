{
 "cells": [
  {
   "cell_type": "code",
   "execution_count": 4,
   "metadata": {},
   "outputs": [],
   "source": [
    "import tensorflow as tf"
   ]
  },
  {
   "cell_type": "markdown",
   "metadata": {},
   "source": [
    "# 张量排序\n",
    "\n",
    " * sort/argsort 得到序列排序/得到序列排序后的位置\n",
    " * topk 得到前n个大数（小数）\n",
    " * top-5 acc"
   ]
  },
  {
   "cell_type": "markdown",
   "metadata": {},
   "source": [
    "## sort/argsort"
   ]
  },
  {
   "cell_type": "code",
   "execution_count": 7,
   "metadata": {},
   "outputs": [
    {
     "data": {
      "text/plain": [
       "<tf.Tensor: id=14, shape=(5,), dtype=int32, numpy=array([1, 2, 4, 0, 3], dtype=int32)>"
      ]
     },
     "execution_count": 7,
     "metadata": {},
     "output_type": "execute_result"
    }
   ],
   "source": [
    "a = tf.random.shuffle(tf.range(5))\n",
    "a"
   ]
  },
  {
   "cell_type": "code",
   "execution_count": 9,
   "metadata": {},
   "outputs": [
    {
     "data": {
      "text/plain": [
       "<tf.Tensor: id=31, shape=(5,), dtype=int32, numpy=array([4, 3, 2, 1, 0], dtype=int32)>"
      ]
     },
     "execution_count": 9,
     "metadata": {},
     "output_type": "execute_result"
    }
   ],
   "source": [
    "# 降序排列\n",
    "tf.sort(a, direction=\"DESCENDING\")"
   ]
  },
  {
   "cell_type": "code",
   "execution_count": 10,
   "metadata": {},
   "outputs": [
    {
     "data": {
      "text/plain": [
       "<tf.Tensor: id=41, shape=(5,), dtype=int32, numpy=array([2, 4, 1, 0, 3], dtype=int32)>"
      ]
     },
     "execution_count": 10,
     "metadata": {},
     "output_type": "execute_result"
    }
   ],
   "source": [
    "# 获得降序排列后的相对原数据的位置\n",
    "tf.argsort(a, direction=\"DESCENDING\")"
   ]
  },
  {
   "cell_type": "code",
   "execution_count": 14,
   "metadata": {},
   "outputs": [
    {
     "data": {
      "text/plain": [
       "<tf.Tensor: id=63, shape=(5,), dtype=int32, numpy=array([4, 3, 2, 1, 0], dtype=int32)>"
      ]
     },
     "execution_count": 14,
     "metadata": {},
     "output_type": "execute_result"
    }
   ],
   "source": [
    "tf.gather(a, tf.argsort(a, direction=\"DESCENDING\"))"
   ]
  },
  {
   "cell_type": "code",
   "execution_count": 21,
   "metadata": {},
   "outputs": [
    {
     "data": {
      "text/plain": [
       "<tf.Tensor: id=91, shape=(3, 3), dtype=int32, numpy=\n",
       "array([[1, 9, 7],\n",
       "       [6, 0, 7],\n",
       "       [9, 1, 6]], dtype=int32)>"
      ]
     },
     "execution_count": 21,
     "metadata": {},
     "output_type": "execute_result"
    }
   ],
   "source": [
    "a = tf.random.uniform([3, 3], maxval=10, dtype=tf.int32)\n",
    "a"
   ]
  },
  {
   "cell_type": "code",
   "execution_count": 24,
   "metadata": {},
   "outputs": [
    {
     "data": {
      "text/plain": [
       "(<tf.Tensor: id=133, shape=(3, 3), dtype=int32, numpy=\n",
       " array([[1, 7, 9],\n",
       "        [0, 6, 7],\n",
       "        [1, 6, 9]], dtype=int32)>,\n",
       " <tf.Tensor: id=141, shape=(3, 3), dtype=int32, numpy=\n",
       " array([[9, 7, 1],\n",
       "        [7, 6, 0],\n",
       "        [9, 6, 1]], dtype=int32)>)"
      ]
     },
     "execution_count": 24,
     "metadata": {},
     "output_type": "execute_result"
    }
   ],
   "source": [
    "tf.sort(a), tf.sort(a, direction=\"DESCENDING\")"
   ]
  },
  {
   "cell_type": "code",
   "execution_count": 25,
   "metadata": {},
   "outputs": [
    {
     "data": {
      "text/plain": [
       "<tf.Tensor: id=152, shape=(3, 3), dtype=int32, numpy=\n",
       "array([[0, 2, 1],\n",
       "       [1, 0, 2],\n",
       "       [1, 2, 0]], dtype=int32)>"
      ]
     },
     "execution_count": 25,
     "metadata": {},
     "output_type": "execute_result"
    }
   ],
   "source": [
    "tf.argsort(a)"
   ]
  },
  {
   "cell_type": "markdown",
   "metadata": {},
   "source": [
    "## topk"
   ]
  },
  {
   "cell_type": "code",
   "execution_count": 27,
   "metadata": {},
   "outputs": [
    {
     "data": {
      "text/plain": [
       "<tf.Tensor: id=160, shape=(3, 3), dtype=int32, numpy=\n",
       "array([[4, 4, 8],\n",
       "       [6, 8, 8],\n",
       "       [8, 4, 2]], dtype=int32)>"
      ]
     },
     "execution_count": 27,
     "metadata": {},
     "output_type": "execute_result"
    }
   ],
   "source": [
    "a = tf.random.uniform([3, 3], maxval=10, dtype=tf.int32)\n",
    "a"
   ]
  },
  {
   "cell_type": "code",
   "execution_count": 32,
   "metadata": {},
   "outputs": [
    {
     "data": {
      "text/plain": [
       "(TopKV2(values=<tf.Tensor: id=174, shape=(3, 2), dtype=int32, numpy=\n",
       " array([[8, 4],\n",
       "        [8, 8],\n",
       "        [8, 4]], dtype=int32)>, indices=<tf.Tensor: id=175, shape=(3, 2), dtype=int32, numpy=\n",
       " array([[2, 0],\n",
       "        [1, 2],\n",
       "        [0, 1]], dtype=int32)>),\n",
       " <tf.Tensor: id=175, shape=(3, 2), dtype=int32, numpy=\n",
       " array([[2, 0],\n",
       "        [1, 2],\n",
       "        [0, 1]], dtype=int32)>)"
      ]
     },
     "execution_count": 32,
     "metadata": {},
     "output_type": "execute_result"
    }
   ],
   "source": [
    "res = tf.math.top_k(a, k=2)\n",
    "res"
   ]
  },
  {
   "cell_type": "code",
   "execution_count": 35,
   "metadata": {},
   "outputs": [
    {
     "data": {
      "text/plain": [
       "(<tf.Tensor: id=175, shape=(3, 2), dtype=int32, numpy=\n",
       " array([[2, 0],\n",
       "        [1, 2],\n",
       "        [0, 1]], dtype=int32)>,\n",
       " <tf.Tensor: id=174, shape=(3, 2), dtype=int32, numpy=\n",
       " array([[8, 4],\n",
       "        [8, 8],\n",
       "        [8, 4]], dtype=int32)>)"
      ]
     },
     "execution_count": 35,
     "metadata": {},
     "output_type": "execute_result"
    }
   ],
   "source": [
    "res.indices, res.values"
   ]
  },
  {
   "cell_type": "markdown",
   "metadata": {},
   "source": [
    "#### top accuracy"
   ]
  },
  {
   "cell_type": "code",
   "execution_count": 36,
   "metadata": {},
   "outputs": [
    {
     "data": {
      "text/plain": [
       "<tf.Tensor: id=180, shape=(2, 3), dtype=int32, numpy=\n",
       "array([[2, 1, 0],\n",
       "       [1, 0, 2]], dtype=int32)>"
      ]
     },
     "execution_count": 36,
     "metadata": {},
     "output_type": "execute_result"
    }
   ],
   "source": [
    "prob = tf.constant([[0.1, 0.2, 0.7], [0.2, 0.7, 0.1]])\n",
    "target = tf.constant([2, 0])\n",
    "k_b = tf.math.top_k(prob, k=3).indices\n",
    "k_b"
   ]
  },
  {
   "cell_type": "code",
   "execution_count": 39,
   "metadata": {},
   "outputs": [
    {
     "data": {
      "text/plain": [
       "<tf.Tensor: id=186, shape=(3, 2), dtype=int32, numpy=\n",
       "array([[2, 1],\n",
       "       [1, 0],\n",
       "       [0, 2]], dtype=int32)>"
      ]
     },
     "execution_count": 39,
     "metadata": {},
     "output_type": "execute_result"
    }
   ],
   "source": [
    "k_b = tf.transpose(k_b, perm=[1, 0])\n",
    "k_b"
   ]
  },
  {
   "cell_type": "code",
   "execution_count": 44,
   "metadata": {},
   "outputs": [
    {
     "data": {
      "text/plain": [
       "<tf.Tensor: id=195, shape=(3, 2), dtype=int32, numpy=\n",
       "array([[2, 0],\n",
       "       [2, 0],\n",
       "       [2, 0]], dtype=int32)>"
      ]
     },
     "execution_count": 44,
     "metadata": {},
     "output_type": "execute_result"
    }
   ],
   "source": [
    "target = tf.broadcast_to(target, [3, 2])\n",
    "target"
   ]
  },
  {
   "cell_type": "code",
   "execution_count": 54,
   "metadata": {},
   "outputs": [
    {
     "data": {
      "text/plain": [
       "<tf.Tensor: id=238, shape=(3, 2), dtype=bool, numpy=\n",
       "array([[ True, False],\n",
       "       [False,  True],\n",
       "       [False, False]])>"
      ]
     },
     "execution_count": 54,
     "metadata": {},
     "output_type": "execute_result"
    }
   ],
   "source": [
    "tf.equal(k_b, target)"
   ]
  },
  {
   "cell_type": "markdown",
   "metadata": {},
   "source": [
    "## 实战"
   ]
  },
  {
   "cell_type": "code",
   "execution_count": 68,
   "metadata": {},
   "outputs": [
    {
     "name": "stdout",
     "output_type": "stream",
     "text": [
      "prob: [[0.18353066 0.3276817  0.06344536 0.12068    0.06104458 0.24361764]\n",
      " [0.14046003 0.23030654 0.11896093 0.28100115 0.08454478 0.14472651]\n",
      " [0.12014476 0.23867853 0.09241256 0.06428436 0.34006873 0.14441106]\n",
      " [0.02193103 0.02008838 0.06097358 0.73129296 0.12790377 0.03781031]\n",
      " [0.11057741 0.08675427 0.07851733 0.19058196 0.30722696 0.2263421 ]\n",
      " [0.19347434 0.10302109 0.19567528 0.1416116  0.06699216 0.29922545]\n",
      " [0.12074371 0.04231453 0.40411508 0.10170089 0.02152895 0.30959684]\n",
      " [0.19445543 0.25950745 0.11772771 0.17805274 0.202736   0.04752066]\n",
      " [0.09833962 0.16481824 0.14184082 0.06099552 0.17508325 0.3589225 ]\n",
      " [0.20977901 0.16823663 0.10440225 0.09709366 0.13565136 0.28483704]]\n",
      "label: [1 5 2 5 1 2 0 3 2 5]\n",
      "pred: [1 3 4 3 4 5 2 1 5 5]\n",
      "top 1-6 acc: [20.0, 30.0, 50.0, 80.0, 100.0, 100.0]\n"
     ]
    }
   ],
   "source": [
    "def accuracy(output, target, topk=(1,)):\n",
    "    maxk = max(topk)\n",
    "    batch_size = target.shape[0]\n",
    "    \n",
    "    pred = tf.math.top_k(output, maxk).indices\n",
    "    pred = tf.transpose(pred, perm=[1, 0])\n",
    "    target_ = tf.broadcast_to(target, pred.shape)\n",
    "    # [10, b]\n",
    "    correct = tf.equal(pred, target_)\n",
    "    \n",
    "    res = []\n",
    "    for k in topk:\n",
    "        correct_k = tf.cast(tf.reshape(correct[:k], [-1]), dtype=tf.float32)\n",
    "        correct_k = tf.reduce_sum(correct_k)\n",
    "        acc = float(correct_k * (100.0 / batch_size))\n",
    "        res.append(acc)\n",
    "        \n",
    "    return res\n",
    "\n",
    "output = tf.random.normal([10, 6])\n",
    "output = tf.math.softmax(output, axis=1) # 维度等于1的数据相加和为1\n",
    "print(\"prob:\", output.numpy())\n",
    "target = tf.random.uniform([10], maxval=6, dtype=tf.int32)\n",
    "print(\"label:\", target.numpy())\n",
    "pred = tf.argmax(output, axis=1)\n",
    "print(\"pred:\", pred.numpy())\n",
    "\n",
    "acc = accuracy(output, target, topk=(1, 2, 3, 4, 5, 6))\n",
    "print(\"top 1-6 acc:\", acc)"
   ]
  }
 ],
 "metadata": {
  "kernelspec": {
   "display_name": "Python 3",
   "language": "python",
   "name": "python3"
  },
  "language_info": {
   "codemirror_mode": {
    "name": "ipython",
    "version": 3
   },
   "file_extension": ".py",
   "mimetype": "text/x-python",
   "name": "python",
   "nbconvert_exporter": "python",
   "pygments_lexer": "ipython3",
   "version": "3.7.3"
  }
 },
 "nbformat": 4,
 "nbformat_minor": 2
}
