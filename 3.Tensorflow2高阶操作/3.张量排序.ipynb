{
 "cells": [
  {
   "cell_type": "code",
   "execution_count": 4,
   "metadata": {},
   "outputs": [],
   "source": [
    "import tensorflow as tf"
   ]
  },
  {
   "cell_type": "markdown",
   "metadata": {},
   "source": [
    "# 张量排序\n",
    "\n",
    " * sort/argsort 得到序列排序/得到序列排序后的位置\n",
    " * topk 得到前n个大数（小数）\n",
    " * top-5 acc"
   ]
  },
  {
   "cell_type": "markdown",
   "metadata": {},
   "source": [
    "## sort/argsort"
   ]
  },
  {
   "cell_type": "code",
   "execution_count": 7,
   "metadata": {},
   "outputs": [
    {
     "data": {
      "text/plain": [
       "<tf.Tensor: id=14, shape=(5,), dtype=int32, numpy=array([1, 2, 4, 0, 3], dtype=int32)>"
      ]
     },
     "execution_count": 7,
     "metadata": {},
     "output_type": "execute_result"
    }
   ],
   "source": [
    "a = tf.random.shuffle(tf.range(5))\n",
    "a"
   ]
  },
  {
   "cell_type": "code",
   "execution_count": 9,
   "metadata": {},
   "outputs": [
    {
     "data": {
      "text/plain": [
       "<tf.Tensor: id=31, shape=(5,), dtype=int32, numpy=array([4, 3, 2, 1, 0], dtype=int32)>"
      ]
     },
     "execution_count": 9,
     "metadata": {},
     "output_type": "execute_result"
    }
   ],
   "source": [
    "# 降序排列\n",
    "tf.sort(a, direction=\"DESCENDING\")"
   ]
  },
  {
   "cell_type": "code",
   "execution_count": 10,
   "metadata": {},
   "outputs": [
    {
     "data": {
      "text/plain": [
       "<tf.Tensor: id=41, shape=(5,), dtype=int32, numpy=array([2, 4, 1, 0, 3], dtype=int32)>"
      ]
     },
     "execution_count": 10,
     "metadata": {},
     "output_type": "execute_result"
    }
   ],
   "source": [
    "# 获得降序排列后的相对原数据的位置\n",
    "tf.argsort(a, direction=\"DESCENDING\")"
   ]
  },
  {
   "cell_type": "code",
   "execution_count": 14,
   "metadata": {},
   "outputs": [
    {
     "data": {
      "text/plain": [
       "<tf.Tensor: id=63, shape=(5,), dtype=int32, numpy=array([4, 3, 2, 1, 0], dtype=int32)>"
      ]
     },
     "execution_count": 14,
     "metadata": {},
     "output_type": "execute_result"
    }
   ],
   "source": [
    "tf.gather(a, tf.argsort(a, direction=\"DESCENDING\"))"
   ]
  },
  {
   "cell_type": "code",
   "execution_count": 21,
   "metadata": {},
   "outputs": [
    {
     "data": {
      "text/plain": [
       "<tf.Tensor: id=91, shape=(3, 3), dtype=int32, numpy=\n",
       "array([[1, 9, 7],\n",
       "       [6, 0, 7],\n",
       "       [9, 1, 6]], dtype=int32)>"
      ]
     },
     "execution_count": 21,
     "metadata": {},
     "output_type": "execute_result"
    }
   ],
   "source": [
    "a = tf.random.uniform([3, 3], maxval=10, dtype=tf.int32)\n",
    "a"
   ]
  },
  {
   "cell_type": "code",
   "execution_count": 24,
   "metadata": {},
   "outputs": [
    {
     "data": {
      "text/plain": [
       "(<tf.Tensor: id=133, shape=(3, 3), dtype=int32, numpy=\n",
       " array([[1, 7, 9],\n",
       "        [0, 6, 7],\n",
       "        [1, 6, 9]], dtype=int32)>,\n",
       " <tf.Tensor: id=141, shape=(3, 3), dtype=int32, numpy=\n",
       " array([[9, 7, 1],\n",
       "        [7, 6, 0],\n",
       "        [9, 6, 1]], dtype=int32)>)"
      ]
     },
     "execution_count": 24,
     "metadata": {},
     "output_type": "execute_result"
    }
   ],
   "source": [
    "tf.sort(a), tf.sort(a, direction=\"DESCENDING\")"
   ]
  },
  {
   "cell_type": "code",
   "execution_count": 25,
   "metadata": {},
   "outputs": [
    {
     "data": {
      "text/plain": [
       "<tf.Tensor: id=152, shape=(3, 3), dtype=int32, numpy=\n",
       "array([[0, 2, 1],\n",
       "       [1, 0, 2],\n",
       "       [1, 2, 0]], dtype=int32)>"
      ]
     },
     "execution_count": 25,
     "metadata": {},
     "output_type": "execute_result"
    }
   ],
   "source": [
    "tf.argsort(a)"
   ]
  },
  {
   "cell_type": "markdown",
   "metadata": {},
   "source": [
    "## topk"
   ]
  },
  {
   "cell_type": "code",
   "execution_count": 27,
   "metadata": {},
   "outputs": [
    {
     "data": {
      "text/plain": [
       "<tf.Tensor: id=160, shape=(3, 3), dtype=int32, numpy=\n",
       "array([[4, 4, 8],\n",
       "       [6, 8, 8],\n",
       "       [8, 4, 2]], dtype=int32)>"
      ]
     },
     "execution_count": 27,
     "metadata": {},
     "output_type": "execute_result"
    }
   ],
   "source": [
    "a = tf.random.uniform([3, 3], maxval=10, dtype=tf.int32)\n",
    "a"
   ]
  },
  {
   "cell_type": "code",
   "execution_count": 32,
   "metadata": {},
   "outputs": [
    {
     "data": {
      "text/plain": [
       "(TopKV2(values=<tf.Tensor: id=174, shape=(3, 2), dtype=int32, numpy=\n",
       " array([[8, 4],\n",
       "        [8, 8],\n",
       "        [8, 4]], dtype=int32)>, indices=<tf.Tensor: id=175, shape=(3, 2), dtype=int32, numpy=\n",
       " array([[2, 0],\n",
       "        [1, 2],\n",
       "        [0, 1]], dtype=int32)>),\n",
       " <tf.Tensor: id=175, shape=(3, 2), dtype=int32, numpy=\n",
       " array([[2, 0],\n",
       "        [1, 2],\n",
       "        [0, 1]], dtype=int32)>)"
      ]
     },
     "execution_count": 32,
     "metadata": {},
     "output_type": "execute_result"
    }
   ],
   "source": [
    "res = tf.math.top_k(a, k=2)\n",
    "res"
   ]
  },
  {
   "cell_type": "code",
   "execution_count": 35,
   "metadata": {},
   "outputs": [
    {
     "data": {
      "text/plain": [
       "(<tf.Tensor: id=175, shape=(3, 2), dtype=int32, numpy=\n",
       " array([[2, 0],\n",
       "        [1, 2],\n",
       "        [0, 1]], dtype=int32)>,\n",
       " <tf.Tensor: id=174, shape=(3, 2), dtype=int32, numpy=\n",
       " array([[8, 4],\n",
       "        [8, 8],\n",
       "        [8, 4]], dtype=int32)>)"
      ]
     },
     "execution_count": 35,
     "metadata": {},
     "output_type": "execute_result"
    }
   ],
   "source": [
    "res.indices, res.values"
   ]
  },
  {
   "cell_type": "markdown",
   "metadata": {},
   "source": [
    "#### top accuracy"
   ]
  },
  {
   "cell_type": "code",
   "execution_count": 36,
   "metadata": {},
   "outputs": [
    {
     "data": {
      "text/plain": [
       "<tf.Tensor: id=180, shape=(2, 3), dtype=int32, numpy=\n",
       "array([[2, 1, 0],\n",
       "       [1, 0, 2]], dtype=int32)>"
      ]
     },
     "execution_count": 36,
     "metadata": {},
     "output_type": "execute_result"
    }
   ],
   "source": [
    "prob = tf.constant([[0.1, 0.2, 0.7], [0.2, 0.7, 0.1]])\n",
    "target = tf.constant([2, 0])\n",
    "k_b = tf.math.top_k(prob, k=3).indices\n",
    "k_b"
   ]
  },
  {
   "cell_type": "code",
   "execution_count": 39,
   "metadata": {},
   "outputs": [
    {
     "data": {
      "text/plain": [
       "<tf.Tensor: id=186, shape=(3, 2), dtype=int32, numpy=\n",
       "array([[2, 1],\n",
       "       [1, 0],\n",
       "       [0, 2]], dtype=int32)>"
      ]
     },
     "execution_count": 39,
     "metadata": {},
     "output_type": "execute_result"
    }
   ],
   "source": [
    "k_b = tf.transpose(k_b, perm=[1, 0])\n",
    "k_b"
   ]
  },
  {
   "cell_type": "code",
   "execution_count": 44,
   "metadata": {},
   "outputs": [
    {
     "data": {
      "text/plain": [
       "<tf.Tensor: id=195, shape=(3, 2), dtype=int32, numpy=\n",
       "array([[2, 0],\n",
       "       [2, 0],\n",
       "       [2, 0]], dtype=int32)>"
      ]
     },
     "execution_count": 44,
     "metadata": {},
     "output_type": "execute_result"
    }
   ],
   "source": [
    "target = tf.broadcast_to(target, [3, 2])\n",
    "target"
   ]
  },
  {
   "cell_type": "code",
   "execution_count": 43,
   "metadata": {},
   "outputs": [
    {
     "data": {
      "text/plain": [
       "<tf.Tensor: id=193, shape=(3, 2), dtype=bool, numpy=\n",
       "array([[ True, False],\n",
       "       [False,  True],\n",
       "       [False, False]])>"
      ]
     },
     "execution_count": 43,
     "metadata": {},
     "output_type": "execute_result"
    }
   ],
   "source": [
    "tf.equal(k_b, target)"
   ]
  }
 ],
 "metadata": {
  "kernelspec": {
   "display_name": "Python 3",
   "language": "python",
   "name": "python3"
  },
  "language_info": {
   "codemirror_mode": {
    "name": "ipython",
    "version": 3
   },
   "file_extension": ".py",
   "mimetype": "text/x-python",
   "name": "python",
   "nbconvert_exporter": "python",
   "pygments_lexer": "ipython3",
   "version": "3.7.3"
  }
 },
 "nbformat": 4,
 "nbformat_minor": 2
}
